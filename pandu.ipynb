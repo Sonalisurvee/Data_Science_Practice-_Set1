{
 "cells": [
  {
   "cell_type": "code",
   "execution_count": 12,
   "id": "d71a8142-c936-4d30-99da-b8d242424486",
   "metadata": {},
   "outputs": [
    {
     "name": "stdout",
     "output_type": "stream",
     "text": [
      "10\n",
      "30\n",
      "20\n",
      "40\n",
      "B    20\n",
      "C    30\n",
      "D    40\n",
      "dtype: int64\n",
      "\n",
      "Perform mathematical operations on the Series\n",
      "A     20\n",
      "B     40\n",
      "C     60\n",
      "D     80\n",
      "E    100\n",
      "dtype: int64\n",
      "Manipulating Series Data\n",
      "Filtering\n",
      "D    40\n",
      "E    50\n",
      "dtype: int64\n",
      "Sorting\n",
      "A    10\n",
      "B    20\n",
      "C    30\n",
      "D    40\n",
      "E    50\n",
      "dtype: int64\n",
      "A    10\n",
      "B    20\n",
      "C    30\n",
      "D    40\n",
      "E    50\n",
      "dtype: int64\n"
     ]
    }
   ],
   "source": [
    "import pandas as pd\n",
    "\n",
    "# Create a Series\n",
    "data = [10, 20, 30, 40, 50]\n",
    "series = pd.Series(data)\n",
    "\n",
    "# Access values by index\n",
    "print(series[0])  # Output: 10\n",
    "print(series[2])  # Output: 30\n",
    "\n",
    "# Access values by label (if available)\n",
    "data = [10, 20, 30, 40, 50]\n",
    "labels = ['A', 'B', 'C', 'D', 'E']\n",
    "series = pd.Series(data, index=labels)\n",
    "print(series['B'])  # Output: 20\n",
    "print(series['D'])  # Output: 40\n",
    "\n",
    "# Access multiple values using slicing\n",
    "print(series[1:4])     # Output: B    20\\nC    30\\nD    40\\ndtype: int64\n",
    "\n",
    "print()\n",
    "print('Perform mathematical operations on the Series')\n",
    "print(series * 2)\n",
    "\n",
    "print('Manipulating Series Data')\n",
    "print('Filtering')\n",
    "filtered_series = series[series > 30]\n",
    "print(filtered_series)  # Output: 40    40\\n50    50\\ndtype: int64\n",
    "\n",
    "print(\"Sorting\")\n",
    "sorted_by_index = series.sort_index()\n",
    "sorted_by_value = series.sort_values()\n",
    "print(sorted_by_index)  # Output: 0    10\\n1    30\\n2    20\\n3    50\\n4    40\\ndtype: int64\n",
    "print(sorted_by_value) \n"
   ]
  },
  {
   "cell_type": "code",
   "execution_count": null,
   "id": "4059b6e6-1b53-4984-8b23-e9e3eacd0440",
   "metadata": {},
   "outputs": [],
   "source": []
  }
 ],
 "metadata": {
  "kernelspec": {
   "display_name": "Python 3 (ipykernel)",
   "language": "python",
   "name": "python3"
  },
  "language_info": {
   "codemirror_mode": {
    "name": "ipython",
    "version": 3
   },
   "file_extension": ".py",
   "mimetype": "text/x-python",
   "name": "python",
   "nbconvert_exporter": "python",
   "pygments_lexer": "ipython3",
   "version": "3.10.6"
  }
 },
 "nbformat": 4,
 "nbformat_minor": 5
}
