{
 "cells": [
  {
   "cell_type": "code",
   "execution_count": 4,
   "id": "8b19ce21-cf3d-4be9-9471-dae04cb2afa4",
   "metadata": {},
   "outputs": [
    {
     "name": "stdout",
     "output_type": "stream",
     "text": [
      "[ 40594.7052348  123305.15571347  65031.88378531  63152.10081989\n",
      " 115786.02385177 108266.89199007 116725.91533448  64091.9923026\n",
      "  76310.58157786 100747.76012838]\n"
     ]
    }
   ],
   "source": [
    "# Lasso Regression (L1 regularization)\n",
    "import numpy as np\n",
    "import pandas as pd\n",
    "from sklearn.model_selection import train_test_split\n",
    "import matplotlib.pyplot as plt\n",
    "\n",
    "\n",
    "class LassoRegression():\n",
    "    \n",
    "    def __init__(self, learning_rate, iterations, alpha):\n",
    "        self.learning_rate = learning_rate\n",
    "        self.iterations = iterations\n",
    "        self.alpha = alpha\n",
    "        \n",
    "    def fit(self, X, Y):\n",
    "        # no_of_training_examples, no_of_features\n",
    "        self.m, self.n = X.shape\n",
    "        # weight initialization\n",
    "        self.W = np.zeros(self.n)\n",
    "        self.b = 0\n",
    "        self.X = X\n",
    "        self.Y = Y\n",
    "        # gradient descent learning\n",
    "        for i in range(self.iterations):\n",
    "            Y_pred = self.predict(self.X)\n",
    "            # calculate gradients with L1 regularization term\n",
    "            dW = (-2 * (self.X.T).dot(self.Y - Y_pred) + (self.alpha * np.sign(self.W))) / self.m\n",
    "            db = -2 * np.sum(self.Y - Y_pred) / self.m\n",
    "            # update weights\n",
    "            self.W = self.W - self.learning_rate * dW\n",
    "            self.b = self.b - self.learning_rate * db\n",
    "        return self\n",
    "    \n",
    "    def predict(self, X):\n",
    "        return X.dot(self.W) + self.b\n",
    "\n",
    "# Rest of the code remains the same...\n",
    "\n",
    "# Example usage:\n",
    "file_path = 'Salary_Data.csv'\n",
    "df = pd.read_csv(file_path)\n",
    "X = df.iloc[:, :-1].values\n",
    "Y = df.iloc[:, 1].values\t\n",
    "X_train, X_test, Y_train, Y_test = train_test_split(X, Y, test_size=1 / 3, random_state=0)\n",
    "model = LassoRegression(iterations=1000, learning_rate=0.01, alpha=1)\n",
    "model.fit(X_train, Y_train)\n",
    "\n",
    "Y_pred = model.predict(X_test)\t\n",
    "print(Y_pred)\n"
   ]
  },
  {
   "cell_type": "code",
   "execution_count": 25,
   "id": "8f4b2add-8952-4be4-94ae-aea6930eb18a",
   "metadata": {},
   "outputs": [
    {
     "name": "stdout",
     "output_type": "stream",
     "text": [
      "[ 40595.93537785 123303.02012246  65032.11950694  63152.41303547\n",
      " 115784.19423659 108265.36835072 116724.04747232  64092.2662712\n",
      "  76310.35833575 100746.54246484]\n"
     ]
    }
   ],
   "source": [
    "import numpy as np\n",
    "import pandas as pd\n",
    "from sklearn.model_selection import train_test_split\n",
    "\n",
    "class LassoRegression():\n",
    "    def __init__(self, learning_rate, iterations, l1_penalty):\n",
    "        self.learning_rate = learning_rate\n",
    "        self.iterations = iterations\n",
    "        self.l1_penalty = l1_penalty\n",
    "        \n",
    "    def fit(self, X, Y):\n",
    "        self.m, self.n = X.shape\n",
    "        self.W = np.zeros(self.n)\n",
    "        self.b = 0\n",
    "        self.X = X\n",
    "        self.Y = Y\n",
    "        for i in range(self.iterations):\n",
    "            self.update_weights()\n",
    "        return self\n",
    "    \n",
    "    def update_weights(self):\n",
    "        Y_pred = self.predict(self.X)\n",
    "        dW = np.zeros(self.n)\n",
    "        for j in range(self.n):\n",
    "            if self.W[j] > 0:\n",
    "                dW[j] = (- (2 * (self.X[:, j]).dot(self.Y - Y_pred)) + self.l1_penalty) / self.m\n",
    "            else:\n",
    "                dW[j] = (- (2 * (self.X[:, j]).dot(self.Y - Y_pred)) - self.l1_penalty) / self.m\n",
    "        db = -2 * np.sum(self.Y - Y_pred) / self.m\n",
    "        self.W = self.W - self.learning_rate * dW\n",
    "        self.b = self.b - self.learning_rate * db\n",
    "        return self\n",
    "    \n",
    "    def predict(self, X):\n",
    "        return X.dot(self.W) + self.b\n",
    "\n",
    "def main():\n",
    "    df = pd.read_csv(\"Salary_Data.csv\")\n",
    "    X = df.iloc[:, :-1].values\n",
    "    Y = df.iloc[:, 1].values\n",
    "\n",
    "    X_train, X_test, Y_train, Y_test = train_test_split(X, Y, test_size=1 / 3, random_state=0)\n",
    "\n",
    "    model = LassoRegression(iterations=1000, learning_rate=0.01, l1_penalty=100)\n",
    "    model.fit(X_train, Y_train)\n",
    "    Y_pred = model.predict(X_test)\n",
    "    print(Y_pred)\n",
    "\n",
    "if __name__ == \"__main__\":\n",
    "    main()\n"
   ]
  },
  {
   "cell_type": "code",
   "execution_count": null,
   "id": "021c88b3-ae6c-471f-9086-84a5b6fd938b",
   "metadata": {},
   "outputs": [],
   "source": [
    "[ 40594.7052348  123305.15571347  65031.88378531  63152.10081989\n",
    " 115786.02385177 108266.89199007 116725.91533448  64091.9923026\n",
    "  76310.58157786 100747.76012838]"
   ]
  }
 ],
 "metadata": {
  "kernelspec": {
   "display_name": "Python 3 (ipykernel)",
   "language": "python",
   "name": "python3"
  },
  "language_info": {
   "codemirror_mode": {
    "name": "ipython",
    "version": 3
   },
   "file_extension": ".py",
   "mimetype": "text/x-python",
   "name": "python",
   "nbconvert_exporter": "python",
   "pygments_lexer": "ipython3",
   "version": "3.10.6"
  }
 },
 "nbformat": 4,
 "nbformat_minor": 5
}
