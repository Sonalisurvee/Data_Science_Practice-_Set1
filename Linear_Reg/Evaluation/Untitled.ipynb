{
 "cells": [
  {
   "cell_type": "code",
   "execution_count": 1,
   "id": "5207e193-7061-4800-865a-6eaf94ac58a0",
   "metadata": {},
   "outputs": [
    {
     "name": "stdout",
     "output_type": "stream",
     "text": [
      "Mean Absolute Error (MAE): 1.8\n",
      "Mean Squared Error (MSE): 3.4\n",
      "Root Mean Squared Error (RMSE): 1.8439088914585775\n",
      "R-squared (R²): 0.9319999999999999\n",
      "Mean Absolute Percentage Error (MAPE): 0.06276190476190477\n",
      "Explained Variance Score (EVS): 0.9968\n"
     ]
    }
   ],
   "source": [
    "import numpy as np\n",
    "from sklearn.metrics import mean_absolute_error, mean_squared_error, r2_score, mean_absolute_percentage_error, explained_variance_score\n",
    "\n",
    "# Sample true target values and predicted target values (numpy arrays or lists)\n",
    "true_values = np.array([20, 30, 25, 40, 35])\n",
    "predicted_values = np.array([18, 28, 24, 38, 33])\n",
    "\n",
    "# Calculate Mean Absolute Error (MAE)\n",
    "mae = mean_absolute_error(true_values, predicted_values)\n",
    "print(\"Mean Absolute Error (MAE):\", mae)\n",
    "\n",
    "# Calculate Mean Squared Error (MSE)\n",
    "mse = mean_squared_error(true_values, predicted_values)\n",
    "print(\"Mean Squared Error (MSE):\", mse)\n",
    "\n",
    "# Calculate Root Mean Squared Error (RMSE)\n",
    "rmse = np.sqrt(mse)\n",
    "print(\"Root Mean Squared Error (RMSE):\", rmse)\n",
    "\n",
    "# Calculate R-squared (R²)\n",
    "r_squared = r2_score(true_values, predicted_values)\n",
    "print(\"R-squared (R²):\", r_squared)\n",
    "\n",
    "# Calculate Mean Absolute Percentage Error (MAPE)\n",
    "mape = mean_absolute_percentage_error(true_values, predicted_values)\n",
    "print(\"Mean Absolute Percentage Error (MAPE):\", mape)\n",
    "\n",
    "# Calculate Explained Variance Score (EVS)\n",
    "evs = explained_variance_score(true_values, predicted_values)\n",
    "print(\"Explained Variance Score (EVS):\", evs)\n"
   ]
  },
  {
   "cell_type": "code",
   "execution_count": null,
   "id": "d7158739-bfbb-46c4-a2c7-8582cd016a5a",
   "metadata": {},
   "outputs": [],
   "source": []
  }
 ],
 "metadata": {
  "kernelspec": {
   "display_name": "Python 3 (ipykernel)",
   "language": "python",
   "name": "python3"
  },
  "language_info": {
   "codemirror_mode": {
    "name": "ipython",
    "version": 3
   },
   "file_extension": ".py",
   "mimetype": "text/x-python",
   "name": "python",
   "nbconvert_exporter": "python",
   "pygments_lexer": "ipython3",
   "version": "3.10.6"
  }
 },
 "nbformat": 4,
 "nbformat_minor": 5
}
