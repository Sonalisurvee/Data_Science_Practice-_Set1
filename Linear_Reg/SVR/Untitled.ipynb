{
 "cells": [
  {
   "cell_type": "code",
   "execution_count": 7,
   "id": "72009749-8719-4239-aae2-1e1c7ec4873c",
   "metadata": {},
   "outputs": [
    {
     "name": "stdout",
     "output_type": "stream",
     "text": [
      "Predicted Price for a house with 4.5 rooms: 300838.55996896117\n"
     ]
    }
   ],
   "source": [
    "import numpy as np\n",
    "from sklearn.svm import SVR\n",
    "\n",
    "# Step 1: Prepare the data\n",
    "X_train = np.array([[2], [3], [4], [5], [6]])\n",
    "y_train = np.array([200000, 250000, 300000, 350000, 400000])\n",
    "\n",
    "# Step 2: Train the SVR model\n",
    "svr_model = SVR(kernel='rbf', C=1e3, gamma='scale')\n",
    "svr_model.fit(X_train, y_train)\n",
    "\n",
    "# Step 3: Predict the price for a house with 4.5 rooms\n",
    "# X_test = np.array([[4.5]])\n",
    "# pred = svr_model.predict(X_test)\n",
    "pred = svr_model.predict([[4.5]])\n",
    "\n",
    "print(\"Predicted Price for a house with 4.5 rooms:\", pred[0])\n"
   ]
  },
  {
   "cell_type": "code",
   "execution_count": 6,
   "id": "516c149b-d3e8-423a-aa95-2c95ccad8066",
   "metadata": {},
   "outputs": [
    {
     "name": "stdout",
     "output_type": "stream",
     "text": [
      "Mean Absolute Error (MAE): 299996.0\n",
      "Root Mean Squared Error (RMSE): 308216.48239184095\n",
      "Mean Squared Error (MSE): 94997400018.0\n",
      "R-squared (R²): -47498700008.0\n"
     ]
    }
   ],
   "source": [
    "import numpy as np\n",
    "from sklearn.metrics import mean_absolute_error, mean_squared_error, r2_score, mean_absolute_percentage_error, explained_variance_score\n",
    "\n",
    "mae = mean_absolute_error(X_train, ain)\n",
    "mse = mean_squared_error(X_train, y_train)\n",
    "rmse = np.sqrt(mse)\n",
    "r_squared = r2_score(X_train, y_train)\n",
    "\n",
    "print(\"Mean Absolute Error (MAE):\", mae)\n",
    "print(\"Root Mean Squared Error (RMSE):\", rmse)\n",
    "print(\"Mean Squared Error (MSE):\", mse)\n",
    "print(\"R-squared (R²):\", r_squared)"
   ]
  },
  {
   "cell_type": "code",
   "execution_count": null,
   "id": "bb3eafe6-daa9-4e53-aa89-3680298fbcaa",
   "metadata": {},
   "outputs": [],
   "source": []
  }
 ],
 "metadata": {
  "kernelspec": {
   "display_name": "Python 3 (ipykernel)",
   "language": "python",
   "name": "python3"
  },
  "language_info": {
   "codemirror_mode": {
    "name": "ipython",
    "version": 3
   },
   "file_extension": ".py",
   "mimetype": "text/x-python",
   "name": "python",
   "nbconvert_exporter": "python",
   "pygments_lexer": "ipython3",
   "version": "3.10.6"
  }
 },
 "nbformat": 4,
 "nbformat_minor": 5
}
