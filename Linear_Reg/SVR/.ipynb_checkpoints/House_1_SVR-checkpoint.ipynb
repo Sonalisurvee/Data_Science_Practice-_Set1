{
 "cells": [
  {
   "cell_type": "code",
   "execution_count": 3,
   "id": "72b1d1d8-fb19-4c8c-9786-a20ff8d8863d",
   "metadata": {},
   "outputs": [],
   "source": [
    "import numpy as np\n",
    "import matplotlib.pyplot as plt\n",
    "from sklearn.datasets import fetch_california_housing\n",
    "from sklearn.model_selection import train_test_split\n",
    "from sklearn.svm import SVR\n",
    "from sklearn.preprocessing import StandardScaler\n",
    "from sklearn.metrics import mean_squared_error, r2_score\n",
    "\n",
    "# Load the California Housing Prices dataset\n",
    "cali_housing = fetch_california_housing()\n",
    "X = cali_housing.data  # Features\n",
    "y = cali_housing.target  # Target variable (median house value)\n",
    "\n",
    "# Split the data into training and testing sets\n",
    "X_train, X_test, y_train, y_test = train_test_split(X, y, test_size=0.2, random_state=42)\n",
    "\n",
    "# Feature scaling\n",
    "scaler = StandardScaler()\n",
    "X_train_scaled = scaler.fit_transform(X_train)\n",
    "X_test_scaled = scaler.transform(X_test)\n",
    "\n",
    "# Create and fit the SVR model\n",
    "svr_model = SVR(kernel='rbf', C=1.0, epsilon=0.1)\n",
    "svr_model.fit(X_train_scaled, y_train)\n",
    "\n",
    "# Make predictions using the model\n",
    "y_pred = svr_model.predict(X_test_scaled)\n",
    "\n",
    "# Evaluate the model\n",
    "mse = mean_squared_error(y_test, y_pred)\n",
    "r2 = r2_score(y_test, y_pred)"
   ]
  },
  {
   "cell_type": "code",
   "execution_count": null,
   "id": "2887e32a-1aa9-44e4-bde3-3889f8dc13fb",
   "metadata": {},
   "outputs": [],
   "source": [
    "# Calculate residuals (difference between actual and predicted values)\n",
    "residuals = y_test - y_pred\n",
    "\n",
    "# Create a scatter plot of residuals vs. predicted values\n",
    "plt.scatter(y_pred, residuals, color='blue', alpha=0.5)\n",
    "plt.axhline(y=0, color='red', linestyle='--')\n",
    "plt.xlabel(\"Predicted Median House Value\")\n",
    "plt.ylabel(\"Residuals (Actual - Predicted)\")\n",
    "plt.title(\"Residual Plot - SVR\")\n",
    "plt.show()\n"
   ]
  },
  {
   "cell_type": "code",
   "execution_count": null,
   "id": "f790fdda-8f2c-4dea-9d5c-76adef018448",
   "metadata": {},
   "outputs": [],
   "source": [
    "# svr_model = SVR(kernel='rbf', C=1.0, epsilon=0.1, loss='epsilon_insensitive')\n",
    "# svr_model.fit(X_train_scaled, y_train)\n",
    "# y_pred = svr_model.predict(X_test_scaled)\n",
    "\n",
    "# # Evaluate the model with regularization\n",
    "# mse = mean_squared_error(y_test, y_pred)\n",
    "# r2 = r2_score(y_test, y_pred)\n",
    "# print(\"MSE with Epsilon-Insensitive Loss (L1 Regularization):\", mse)\n",
    "# print(\"R-squared with Epsilon-Insensitive Loss (L1 Regularization):\", r2)"
   ]
  },
  {
   "cell_type": "code",
   "execution_count": null,
   "id": "63dcc7b2-6f67-47aa-8fb4-9fde9d4d4259",
   "metadata": {},
   "outputs": [],
   "source": [
    "# kernel_types = ['linear', 'poly', 'sigmoid']\n",
    "# for kernel in kernel_types:\n",
    "#     svr_model = SVR(kernel=kernel, C=1.0, epsilon=0.1)\n",
    "#     svr_model.fit(X_train_scaled, y_train)\n",
    "#     y_pred = svr_model.predict(X_test_scaled)\n",
    "#     mse = mean_squared_error(y_test, y_pred)\n",
    "#     r2 = r2_score(y_test, y_pred)\n",
    "#     print(f\"Kernel: {kernel} - MSE: {mse} - R-squared: {r2}\")\n"
   ]
  },
  {
   "cell_type": "code",
   "execution_count": null,
   "id": "8064f3e5-4328-4446-8bab-cbb23b6eb679",
   "metadata": {},
   "outputs": [],
   "source": [
    "# Perform feature selection using a suitable method (e.g., SelectKBest with f_regression)\n",
    "from sklearn.feature_selection import SelectKBest, f_regression\n",
    "\n",
    "k = 5  # Number of top features to select\n",
    "feature_selector = SelectKBest(score_func=f_regression, k=k)\n",
    "X_train_selected = feature_selector.fit_transform(X_train_scaled, y_train)\n",
    "X_test_selected = feature_selector.transform(X_test_scaled)\n",
    "\n",
    "# Create and fit the SVR model with selected features\n",
    "svr_model = SVR(kernel='rbf', C=1.0, epsilon=0.1)\n",
    "svr_model.fit(X_train_selected, y_train)\n",
    "y_pred = svr_model.predict(X_test_selected)\n",
    "\n",
    "# Evaluate the model with selected features\n",
    "mse = mean_squared_error(y_test, y_pred)\n",
    "r2 = r2_score(y_test, y_pred)\n",
    "print(\"MSE with Feature Selection:\", mse)\n",
    "print(\"R-squared with Feature Selection:\", r2)\n"
   ]
  },
  {
   "cell_type": "code",
   "execution_count": null,
   "id": "07f6331c-ac93-4847-bf88-558a90f2f8af",
   "metadata": {},
   "outputs": [],
   "source": []
  }
 ],
 "metadata": {
  "kernelspec": {
   "display_name": "Python 3 (ipykernel)",
   "language": "python",
   "name": "python3"
  },
  "language_info": {
   "codemirror_mode": {
    "name": "ipython",
    "version": 3
   },
   "file_extension": ".py",
   "mimetype": "text/x-python",
   "name": "python",
   "nbconvert_exporter": "python",
   "pygments_lexer": "ipython3",
   "version": "3.10.6"
  }
 },
 "nbformat": 4,
 "nbformat_minor": 5
}
