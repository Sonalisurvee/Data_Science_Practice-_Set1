{
 "cells": [
  {
   "cell_type": "code",
   "execution_count": 1,
   "id": "38a2bf04-20fb-4828-917d-eae0369be542",
   "metadata": {},
   "outputs": [],
   "source": [
    "import numpy as np\n",
    "import matplotlib.pyplot as plt\n",
    "from sklearn.datasets import fetch_california_housing\n",
    "\n",
    "cali_housing = fetch_california_housing()\n",
    "X = cali_housing.data  # Features\n",
    "y = cali_housing.target  # Target variable (median house value)"
   ]
  },
  {
   "cell_type": "code",
   "execution_count": 2,
   "id": "75679245-599e-4fba-adfe-691141ceef24",
   "metadata": {},
   "outputs": [],
   "source": [
    "from sklearn.model_selection import train_test_split\n",
    "\n",
    "X_train, X_test, y_train, y_test = train_test_split(X, y, test_size=0.2, random_state=42)"
   ]
  },
  {
   "cell_type": "code",
   "execution_count": 3,
   "id": "1cfe0473-7e93-4b02-8c6f-246605507f94",
   "metadata": {},
   "outputs": [],
   "source": [
    "from sklearn.preprocessing import StandardScaler\n",
    "\n",
    "scaler = StandardScaler()\n",
    "X_train_scaled = scaler.fit_transform(X_train)\n",
    "X_test_scaled = scaler.transform(X_test)"
   ]
  },
  {
   "cell_type": "code",
   "execution_count": 4,
   "id": "9a68c509-cd40-469e-825e-696fb047a4c7",
   "metadata": {},
   "outputs": [],
   "source": [
    "from sklearn.svm import SVR\n",
    "\n",
    "svr_model = SVR(kernel='rbf', C=1.0, epsilon=0.1)\n",
    "svr_model.fit(X_train_scaled, y_train)\n",
    "y_pred = svr_model.predict(X_test_scaled)"
   ]
  },
  {
   "cell_type": "code",
   "execution_count": 5,
   "id": "c948ae99-0647-4615-85ee-c6023e1fb848",
   "metadata": {},
   "outputs": [
    {
     "name": "stdout",
     "output_type": "stream",
     "text": [
      "Mean Squared Error: 0.3570026426754462\n",
      "R-squared: 0.7275639524733045\n"
     ]
    }
   ],
   "source": [
    "from sklearn.metrics import mean_squared_error, r2_score\n",
    "\n",
    "mse = mean_squared_error(y_test, y_pred)\n",
    "r2 = r2_score(y_test, y_pred)\n",
    "\n",
    "print(\"Mean Squared Error:\", mse)\n",
    "print(\"R-squared:\", r2)"
   ]
  },
  {
   "cell_type": "code",
   "execution_count": 6,
   "id": "bfd68b75-0a41-4f56-81d7-ad0f2230cf26",
   "metadata": {},
   "outputs": [],
   "source": [
    "# plt.scatter(y_test, y_pred, color='blue', alpha=0.5)\n",
    "# plt.plot([y.min(), y.max()], [y.min(), y.max()], color='red', linestyle='--')\n",
    "# plt.xlabel(\"Actual Values\")\n",
    "# plt.ylabel(\"Predicted Values\")\n",
    "# plt.title(\"Actual vs. Predicted Values - SVR\")\n",
    "# plt.show()"
   ]
  },
  {
   "cell_type": "code",
   "execution_count": null,
   "id": "66c997e0-6907-4e52-ace5-348820e5d971",
   "metadata": {},
   "outputs": [],
   "source": []
  },
  {
   "cell_type": "code",
   "execution_count": null,
   "id": "8f1dbdf2-6910-4b83-86fc-43acc0a61f38",
   "metadata": {},
   "outputs": [],
   "source": []
  }
 ],
 "metadata": {
  "kernelspec": {
   "display_name": "Python 3 (ipykernel)",
   "language": "python",
   "name": "python3"
  },
  "language_info": {
   "codemirror_mode": {
    "name": "ipython",
    "version": 3
   },
   "file_extension": ".py",
   "mimetype": "text/x-python",
   "name": "python",
   "nbconvert_exporter": "python",
   "pygments_lexer": "ipython3",
   "version": "3.10.6"
  }
 },
 "nbformat": 4,
 "nbformat_minor": 5
}
