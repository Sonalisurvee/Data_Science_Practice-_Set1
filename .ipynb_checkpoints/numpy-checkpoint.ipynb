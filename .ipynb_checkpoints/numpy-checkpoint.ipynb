{
 "cells": [
  {
   "cell_type": "code",
   "execution_count": 1,
   "id": "9aacbdf6-5f3a-41cb-960e-79e635e0b847",
   "metadata": {},
   "outputs": [],
   "source": [
    "import numpy as np"
   ]
  },
  {
   "cell_type": "code",
   "execution_count": 2,
   "id": "7f3636ed-5b2e-45b9-baf5-754c68260bc3",
   "metadata": {},
   "outputs": [
    {
     "data": {
      "text/plain": [
       "array([[1, 2, 3],\n",
       "       [4, 5, 6]])"
      ]
     },
     "execution_count": 2,
     "metadata": {},
     "output_type": "execute_result"
    }
   ],
   "source": [
    "ar = np.array([[1,2,3],[4,5,6]])\n",
    "ar"
   ]
  },
  {
   "cell_type": "code",
   "execution_count": 3,
   "id": "93c3c004-2603-44e9-9485-e723c9f9cf48",
   "metadata": {
    "scrolled": true
   },
   "outputs": [
    {
     "data": {
      "text/plain": [
       "(2, 3)"
      ]
     },
     "execution_count": 3,
     "metadata": {},
     "output_type": "execute_result"
    }
   ],
   "source": [
    "# ar.dtype\n",
    "# ar.size #6\n",
    "ar.shape"
   ]
  },
  {
   "cell_type": "code",
   "execution_count": 4,
   "id": "3a8c6777-3ae2-4844-986d-e24869e2a259",
   "metadata": {},
   "outputs": [
    {
     "data": {
      "text/plain": [
       "array([    3,     6, 36777,     8], dtype=int32)"
      ]
     },
     "execution_count": 4,
     "metadata": {},
     "output_type": "execute_result"
    }
   ],
   "source": [
    "# ars = np.array([3,6,36777,8],np.int8)\n",
    "# ars #array([  3,   6, -87,   8], dtype=int8)\n",
    "\n",
    "ars = np.array([3,6,36777,8],np.int32)\n",
    "ars #array([    3,     6, 36777,     8], dtype=int32)\n",
    "\n"
   ]
  },
  {
   "cell_type": "code",
   "execution_count": 5,
   "id": "1f193b68-b181-4e23-8dda-2a67151d1161",
   "metadata": {},
   "outputs": [
    {
     "data": {
      "text/plain": [
       "array({3, 4, 5}, dtype=object)"
      ]
     },
     "execution_count": 5,
     "metadata": {},
     "output_type": "execute_result"
    }
   ],
   "source": [
    "np.array({3,4,5})\n",
    "#array({3, 4, 5}, dtype=object)\n",
    "#not sufficetn everytime"
   ]
  },
  {
   "cell_type": "code",
   "execution_count": 6,
   "id": "4b95c3fb-e34c-427f-ab01-3734bc333878",
   "metadata": {},
   "outputs": [
    {
     "data": {
      "text/plain": [
       "array([[1, 2, 3],\n",
       "       [4, 5, 6]])"
      ]
     },
     "execution_count": 6,
     "metadata": {},
     "output_type": "execute_result"
    }
   ],
   "source": [
    "li =[[1,2,3],[4,5,6]]\n",
    "arr=np.array(li)\n",
    "arr"
   ]
  },
  {
   "cell_type": "code",
   "execution_count": 7,
   "id": "ad318620-de38-4f80-8172-977dc00422d8",
   "metadata": {},
   "outputs": [
    {
     "data": {
      "text/plain": [
       "array([[0., 0., 0.],\n",
       "       [0., 0., 0.]])"
      ]
     },
     "execution_count": 7,
     "metadata": {},
     "output_type": "execute_result"
    }
   ],
   "source": [
    "zero =np.zeros((2,3))\n",
    "zero\n",
    "\n",
    "# arrr = np.zeros([2,3])\n",
    "# arrr"
   ]
  },
  {
   "cell_type": "code",
   "execution_count": 8,
   "id": "1dcb38b0-d0c1-40e4-939a-8be0ac1f504e",
   "metadata": {},
   "outputs": [
    {
     "data": {
      "text/plain": [
       "array([1., 1., 1., 1., 1.])"
      ]
     },
     "execution_count": 8,
     "metadata": {},
     "output_type": "execute_result"
    }
   ],
   "source": [
    "ae = np.ones([5,])\n",
    "ae"
   ]
  },
  {
   "cell_type": "code",
   "execution_count": 9,
   "id": "02d3e754-6a50-45db-819a-473073e66fb3",
   "metadata": {},
   "outputs": [
    {
     "data": {
      "text/plain": [
       "array([0, 1, 2, 3, 4, 5, 6, 7, 8, 9])"
      ]
     },
     "execution_count": 9,
     "metadata": {},
     "output_type": "execute_result"
    }
   ],
   "source": [
    "asss = np.arange(10)\n",
    "asss\n",
    "# asss.reshape(3,2) \n",
    "# asss = asss.reshape(3,2)\n",
    "# ad = np.arange(1,11,2)\n",
    "# ad"
   ]
  },
  {
   "cell_type": "code",
   "execution_count": 10,
   "id": "716b2407-4786-4073-b7fa-87b5bd38e031",
   "metadata": {},
   "outputs": [
    {
     "data": {
      "text/plain": [
       "array([2])"
      ]
     },
     "execution_count": 10,
     "metadata": {},
     "output_type": "execute_result"
    }
   ],
   "source": [
    "asss = np.arange(2,3)\n",
    "asss #array([2])\n",
    "\n",
    "\n",
    "# ad = np.arange(1,11,2)\n",
    "# ad"
   ]
  },
  {
   "cell_type": "code",
   "execution_count": 11,
   "id": "fb9e9eb8-e5b9-402a-bdd0-28eab2a51cb8",
   "metadata": {},
   "outputs": [
    {
     "data": {
      "text/plain": [
       "array([[0.87310568, 0.51862476, 0.69365902],\n",
       "       [0.65160915, 0.37098528, 0.89129842],\n",
       "       [0.92409906, 0.30608639, 0.79784505]])"
      ]
     },
     "execution_count": 11,
     "metadata": {},
     "output_type": "execute_result"
    }
   ],
   "source": [
    "an = np.random.rand(3,3)\n",
    "an"
   ]
  },
  {
   "cell_type": "code",
   "execution_count": 12,
   "id": "0db53d4a-07ab-470c-b4a1-baeb5fda5c2d",
   "metadata": {},
   "outputs": [
    {
     "data": {
      "text/plain": [
       "array([[0, 1, 2],\n",
       "       [3, 4, 5],\n",
       "       [6, 7, 8]])"
      ]
     },
     "execution_count": 12,
     "metadata": {},
     "output_type": "execute_result"
    }
   ],
   "source": [
    "am = np.arange(9).reshape((3,3))\n",
    "\n",
    "am"
   ]
  },
  {
   "cell_type": "code",
   "execution_count": 13,
   "id": "2d352284-eb69-4230-bee1-d9fb922dcc6d",
   "metadata": {},
   "outputs": [
    {
     "data": {
      "text/plain": [
       "6"
      ]
     },
     "execution_count": 13,
     "metadata": {},
     "output_type": "execute_result"
    }
   ],
   "source": [
    "b = np.array([[1,2,3],[4,5,6],[7,8,9]])\n",
    "col_3 = arr[:, 2]\n",
    "# max_3 = np.argmax(col_3)\n",
    "# col_3[max_3]\n",
    "# max_3\n",
    "\n",
    "maxx = np.max(col_3)\n",
    "maxx"
   ]
  },
  {
   "cell_type": "code",
   "execution_count": 14,
   "id": "bb56e674-0824-4eb7-9dda-8f6d86fbd657",
   "metadata": {},
   "outputs": [
    {
     "data": {
      "text/plain": [
       "1024"
      ]
     },
     "execution_count": 14,
     "metadata": {},
     "output_type": "execute_result"
    }
   ],
   "source": [
    "2**10"
   ]
  },
  {
   "cell_type": "code",
   "execution_count": 15,
   "id": "9410c93f-e3e8-4e26-928d-1a17ecd4909e",
   "metadata": {},
   "outputs": [
    {
     "data": {
      "text/plain": [
       "10"
      ]
     },
     "execution_count": 15,
     "metadata": {},
     "output_type": "execute_result"
    }
   ],
   "source": [
    "a = np.linspace(1,100,1024)\n",
    "n=a.reshape(2,2,2,2,2,2,2,2,2,2)\n",
    "n.ndim"
   ]
  },
  {
   "cell_type": "code",
   "execution_count": 16,
   "id": "6645c716-d434-4cba-85da-997bdd2307dd",
   "metadata": {},
   "outputs": [
    {
     "data": {
      "text/plain": [
       "array([[4.64753580e-310, 0.00000000e+000, 2.34544040e+251,\n",
       "        2.72157657e+257, 3.77268046e+233, 2.68047312e-260],\n",
       "       [1.87719729e-009, 7.16395186e-322, 6.93945788e-310,\n",
       "        6.93945788e-310, 1.87725413e-009, 5.03128776e+180],\n",
       "       [5.98117523e-114, 8.78940355e+252, 2.43905614e-154,\n",
       "        4.29058029e+270, 5.22923643e-067, 1.36545436e-071],\n",
       "       [7.01413727e-009, 4.91461491e+252, 5.29345021e+180,\n",
       "        5.98181709e-154, 2.42767533e-154, 1.04019395e-317]])"
      ]
     },
     "execution_count": 16,
     "metadata": {},
     "output_type": "execute_result"
    }
   ],
   "source": [
    "emp = np.empty((4,6))\n",
    "emp"
   ]
  },
  {
   "cell_type": "code",
   "execution_count": 17,
   "id": "9b993877-0052-4139-8b2b-a3301c5160f7",
   "metadata": {},
   "outputs": [
    {
     "data": {
      "text/plain": [
       "array([[4.64753580e-310, 0.00000000e+000, 2.34544040e+251,\n",
       "        2.72157657e+257, 3.77268046e+233, 2.68047312e-260],\n",
       "       [1.87719729e-009, 7.16395186e-322, 6.93945788e-310,\n",
       "        6.93945788e-310, 1.87725413e-009, 5.03128776e+180],\n",
       "       [5.98117523e-114, 8.78940355e+252, 2.43905614e-154,\n",
       "        4.29058029e+270, 5.22923643e-067, 1.36545436e-071],\n",
       "       [7.01413727e-009, 4.91461491e+252, 5.29345021e+180,\n",
       "        5.98181709e-154, 2.42767533e-154, 1.04019395e-317]])"
      ]
     },
     "execution_count": 17,
     "metadata": {},
     "output_type": "execute_result"
    }
   ],
   "source": [
    "emp_like = np.empty_like(emp)\n",
    "emp_like"
   ]
  },
  {
   "cell_type": "code",
   "execution_count": 18,
   "id": "b3cde5d7-5706-4fe1-8db6-c9f80c25ffdc",
   "metadata": {},
   "outputs": [
    {
     "data": {
      "text/plain": [
       "array([[1., 0., 0., 0., 0., 0., 0., 0.],\n",
       "       [0., 1., 0., 0., 0., 0., 0., 0.],\n",
       "       [0., 0., 1., 0., 0., 0., 0., 0.],\n",
       "       [0., 0., 0., 1., 0., 0., 0., 0.],\n",
       "       [0., 0., 0., 0., 1., 0., 0., 0.],\n",
       "       [0., 0., 0., 0., 0., 1., 0., 0.],\n",
       "       [0., 0., 0., 0., 0., 0., 1., 0.],\n",
       "       [0., 0., 0., 0., 0., 0., 0., 1.]])"
      ]
     },
     "execution_count": 18,
     "metadata": {},
     "output_type": "execute_result"
    }
   ],
   "source": [
    "ide = np.identity(8)\n",
    "ide\n",
    "# ide.shape #(8,8)"
   ]
  },
  {
   "cell_type": "code",
   "execution_count": 19,
   "id": "2535ac71-d130-4d53-8fa1-f785b1906a76",
   "metadata": {},
   "outputs": [
    {
     "data": {
      "text/plain": [
       "array([1., 0., 0., 0., 0., 0., 0., 0., 0., 1., 0., 0., 0., 0., 0., 0., 0.,\n",
       "       0., 1., 0., 0., 0., 0., 0., 0., 0., 0., 1., 0., 0., 0., 0., 0., 0.,\n",
       "       0., 0., 1., 0., 0., 0., 0., 0., 0., 0., 0., 1., 0., 0., 0., 0., 0.,\n",
       "       0., 0., 0., 1., 0., 0., 0., 0., 0., 0., 0., 0., 1.])"
      ]
     },
     "execution_count": 19,
     "metadata": {},
     "output_type": "execute_result"
    }
   ],
   "source": [
    "ide.ravel() #ide will be converted into one Dim array"
   ]
  },
  {
   "cell_type": "code",
   "execution_count": 21,
   "id": "d29053f8-f3ca-4652-a7ef-3abd4b2a74a7",
   "metadata": {},
   "outputs": [
    {
     "data": {
      "text/plain": [
       "array([[1, 2, 3],\n",
       "       [4, 5, 6],\n",
       "       [7, 1, 0]])"
      ]
     },
     "execution_count": 21,
     "metadata": {},
     "output_type": "execute_result"
    }
   ],
   "source": [
    "x = [[1,2,3],[4,5,6],[7,1,0]]\n",
    "ar = np.array(x)\n",
    "ar"
   ]
  },
  {
   "cell_type": "code",
   "execution_count": 25,
   "id": "c2942f23-990a-4cff-b6ea-b7eee60f3c54",
   "metadata": {},
   "outputs": [
    {
     "data": {
      "text/plain": [
       "array([12,  8,  9])"
      ]
     },
     "execution_count": 25,
     "metadata": {},
     "output_type": "execute_result"
    }
   ],
   "source": [
    "ar.sum(axis=0) #col -array([12,  8,  9])\n",
    "# ar.sum(axis=1) #row -array([ 6, 15,  8])\n"
   ]
  },
  {
   "cell_type": "code",
   "execution_count": 26,
   "id": "a9d28d32-66af-4cd0-b163-b269835dfe5b",
   "metadata": {},
   "outputs": [
    {
     "data": {
      "text/plain": [
       "array([[1, 4, 7],\n",
       "       [2, 5, 1],\n",
       "       [3, 6, 0]])"
      ]
     },
     "execution_count": 26,
     "metadata": {},
     "output_type": "execute_result"
    }
   ],
   "source": [
    "ar.T #transpose-row to col"
   ]
  },
  {
   "cell_type": "code",
   "execution_count": 27,
   "id": "52454a67-8e16-4e48-8f5e-bdc9c42b81c4",
   "metadata": {},
   "outputs": [
    {
     "name": "stdout",
     "output_type": "stream",
     "text": [
      "1\n",
      "2\n",
      "3\n",
      "4\n",
      "5\n",
      "6\n",
      "7\n",
      "1\n",
      "0\n"
     ]
    }
   ],
   "source": [
    "for item in ar.flat:\n",
    "    print(item)\n",
    "#  will prinall the items "
   ]
  },
  {
   "cell_type": "code",
   "execution_count": 28,
   "id": "91f9944b-09bd-4bb2-9483-dca0169b71ca",
   "metadata": {},
   "outputs": [
    {
     "data": {
      "text/plain": [
       "2"
      ]
     },
     "execution_count": 28,
     "metadata": {},
     "output_type": "execute_result"
    }
   ],
   "source": [
    "ar.ndim #dimention"
   ]
  },
  {
   "cell_type": "code",
   "execution_count": 29,
   "id": "bb34533c-6a85-47c2-9c0f-708b76e5ab2d",
   "metadata": {},
   "outputs": [
    {
     "data": {
      "text/plain": [
       "9"
      ]
     },
     "execution_count": 29,
     "metadata": {},
     "output_type": "execute_result"
    }
   ],
   "source": [
    "ar.size #total ele"
   ]
  },
  {
   "cell_type": "code",
   "execution_count": 30,
   "id": "e1053a9e-d11d-49bd-b95b-e901508291b4",
   "metadata": {},
   "outputs": [
    {
     "data": {
      "text/plain": [
       "72"
      ]
     },
     "execution_count": 30,
     "metadata": {},
     "output_type": "execute_result"
    }
   ],
   "source": [
    "ar.nbytes"
   ]
  },
  {
   "cell_type": "code",
   "execution_count": 37,
   "id": "b1d101f4-4fca-4e12-b464-9de2ac7fa9bc",
   "metadata": {},
   "outputs": [
    {
     "data": {
      "text/plain": [
       "array([0, 4, 1, 2, 3])"
      ]
     },
     "execution_count": 37,
     "metadata": {},
     "output_type": "execute_result"
    }
   ],
   "source": [
    "one = np.array([1,3,4,634,2])\n",
    "one.argmax() #will return the index of the max ele\n",
    "one.argmin()\n",
    "one.argsort() #will return the index of the sorted array\n"
   ]
  },
  {
   "cell_type": "code",
   "execution_count": 41,
   "id": "13b22226-c2a1-46c0-9f16-3a1d155e6a2e",
   "metadata": {},
   "outputs": [
    {
     "data": {
      "text/plain": [
       "array([[0, 1, 2],\n",
       "       [0, 1, 2],\n",
       "       [2, 1, 0]])"
      ]
     },
     "execution_count": 41,
     "metadata": {},
     "output_type": "execute_result"
    }
   ],
   "source": [
    "ar.argmin() #8 - 8th index was the min ele\n",
    "ar.argmax()\n",
    "ar.argmax(axis=0) #will give ma of every col\n",
    "ar.argsort()"
   ]
  },
  {
   "cell_type": "code",
   "execution_count": 42,
   "id": "b65541ac-2c71-4391-b6b1-92a82b2524b7",
   "metadata": {},
   "outputs": [
    {
     "data": {
      "text/plain": [
       "array([[1, 2, 3],\n",
       "       [4, 5, 6],\n",
       "       [7, 1, 0]])"
      ]
     },
     "execution_count": 42,
     "metadata": {},
     "output_type": "execute_result"
    }
   ],
   "source": [
    "ar"
   ]
  },
  {
   "cell_type": "code",
   "execution_count": 44,
   "id": "26e26b2e-6c75-4de5-b6b8-dd15d1b4f604",
   "metadata": {},
   "outputs": [
    {
     "data": {
      "text/plain": [
       "array([[1, 2, 1],\n",
       "       [4, 5, 6],\n",
       "       [8, 1, 0]])"
      ]
     },
     "execution_count": 44,
     "metadata": {},
     "output_type": "execute_result"
    }
   ],
   "source": [
    "ar2 = np.array([[1,2,1],[4,5,6],[8,1,0]])\n",
    "ar2"
   ]
  },
  {
   "cell_type": "code",
   "execution_count": 45,
   "id": "a5027779-982d-4612-8909-0a04e0900570",
   "metadata": {},
   "outputs": [
    {
     "data": {
      "text/plain": [
       "array([[ 2,  4,  4],\n",
       "       [ 8, 10, 12],\n",
       "       [15,  2,  0]])"
      ]
     },
     "execution_count": 45,
     "metadata": {},
     "output_type": "execute_result"
    }
   ],
   "source": [
    "ar + ar2 \n",
    "#if we try to add 2 li it will just append but here numpy array wont append but just perform the operation"
   ]
  },
  {
   "cell_type": "code",
   "execution_count": 46,
   "id": "ae93d89e-cca7-4643-ba1f-21202e341167",
   "metadata": {},
   "outputs": [
    {
     "data": {
      "text/plain": [
       "array([[ 1,  4,  3],\n",
       "       [16, 25, 36],\n",
       "       [56,  1,  0]])"
      ]
     },
     "execution_count": 46,
     "metadata": {},
     "output_type": "execute_result"
    }
   ],
   "source": [
    "ar * ar2"
   ]
  },
  {
   "cell_type": "code",
   "execution_count": 48,
   "id": "5a229ec7-00c2-47cb-9fe9-45349605686b",
   "metadata": {},
   "outputs": [
    {
     "data": {
      "text/plain": [
       "array([[1.        , 1.41421356, 1.73205081],\n",
       "       [2.        , 2.23606798, 2.44948974],\n",
       "       [2.64575131, 1.        , 0.        ]])"
      ]
     },
     "execution_count": 48,
     "metadata": {},
     "output_type": "execute_result"
    }
   ],
   "source": [
    "np.sqrt(ar)"
   ]
  },
  {
   "cell_type": "code",
   "execution_count": 49,
   "id": "274f5f22-3a42-4b9a-81fd-3f1d522c3c08",
   "metadata": {},
   "outputs": [
    {
     "data": {
      "text/plain": [
       "7"
      ]
     },
     "execution_count": 49,
     "metadata": {},
     "output_type": "execute_result"
    }
   ],
   "source": [
    "ar.sum()\n",
    "ar.min()\n",
    "ar.max()"
   ]
  },
  {
   "cell_type": "code",
   "execution_count": 50,
   "id": "796abe79-d5c7-4128-a9d4-3c465dbe8bc2",
   "metadata": {},
   "outputs": [
    {
     "data": {
      "text/plain": [
       "array([[1, 2, 3],\n",
       "       [4, 5, 6],\n",
       "       [7, 1, 0]])"
      ]
     },
     "execution_count": 50,
     "metadata": {},
     "output_type": "execute_result"
    }
   ],
   "source": [
    "ar"
   ]
  },
  {
   "cell_type": "code",
   "execution_count": 53,
   "id": "c9130c1f-1325-438d-b9b6-595ca595abdc",
   "metadata": {},
   "outputs": [
    {
     "data": {
      "text/plain": [
       "(array([1, 2]), array([2, 0]))"
      ]
     },
     "execution_count": 53,
     "metadata": {},
     "output_type": "execute_result"
    }
   ],
   "source": [
    "np.where(ar>5)\n",
    "# type(np.where(ar>5))\n",
    "# (array([1, 2]), array([2, 0]))\n",
    "#  here it is stored as tuple and 1,2 is the index pos,1st row adn 2nd col"
   ]
  },
  {
   "cell_type": "code",
   "execution_count": 56,
   "id": "626975f1-7966-41b6-9b2e-400403d8fab9",
   "metadata": {},
   "outputs": [
    {
     "data": {
      "text/plain": [
       "8"
      ]
     },
     "execution_count": 56,
     "metadata": {},
     "output_type": "execute_result"
    }
   ],
   "source": [
    "np.count_nonzero(ar)"
   ]
  },
  {
   "cell_type": "code",
   "execution_count": 57,
   "id": "bd7e5e4a-8d95-4a51-ab9e-7c7e9f9de705",
   "metadata": {},
   "outputs": [
    {
     "data": {
      "text/plain": [
       "(array([0, 0, 0, 1, 1, 1, 2, 2]), array([0, 1, 2, 0, 1, 2, 0, 1]))"
      ]
     },
     "execution_count": 57,
     "metadata": {},
     "output_type": "execute_result"
    }
   ],
   "source": [
    "np.nonzero(ar)"
   ]
  },
  {
   "cell_type": "code",
   "execution_count": 65,
   "id": "9419fcef-3a22-44ca-acc7-2328eb0a9ced",
   "metadata": {},
   "outputs": [],
   "source": [
    " ar[1,2]=0"
   ]
  },
  {
   "cell_type": "code",
   "execution_count": 66,
   "id": "2b018d25-4501-4795-ac8a-2c5ccc56d28f",
   "metadata": {},
   "outputs": [
    {
     "data": {
      "text/plain": [
       "array([[1, 2, 3],\n",
       "       [4, 5, 0],\n",
       "       [7, 1, 0]])"
      ]
     },
     "execution_count": 66,
     "metadata": {},
     "output_type": "execute_result"
    }
   ],
   "source": [
    "ar"
   ]
  },
  {
   "cell_type": "code",
   "execution_count": 67,
   "id": "4333ac4f-1ef9-404f-8d80-0dd61d692c84",
   "metadata": {},
   "outputs": [],
   "source": [
    "import sys"
   ]
  },
  {
   "cell_type": "code",
   "execution_count": 78,
   "id": "defd84b8-5a0f-4193-a092-f34f3c9cce1b",
   "metadata": {},
   "outputs": [],
   "source": [
    "py_ar = [0,4,55,2]\n",
    "np_ar = np.array(py_ar,np.int32)\n"
   ]
  },
  {
   "cell_type": "code",
   "execution_count": 79,
   "id": "3a2df170-b4ac-49a0-9924-86ba28868a21",
   "metadata": {},
   "outputs": [
    {
     "data": {
      "text/plain": [
       "112"
      ]
     },
     "execution_count": 79,
     "metadata": {},
     "output_type": "execute_result"
    }
   ],
   "source": [
    "sys.getsizeof(1) * len(py_ar)"
   ]
  },
  {
   "cell_type": "code",
   "execution_count": 80,
   "id": "6ed4abfb-5c11-44ba-840f-c20204ca0eba",
   "metadata": {},
   "outputs": [
    {
     "data": {
      "text/plain": [
       "16"
      ]
     },
     "execution_count": 80,
     "metadata": {},
     "output_type": "execute_result"
    }
   ],
   "source": [
    "np_ar.itemsize * np_ar.size"
   ]
  },
  {
   "cell_type": "code",
   "execution_count": 82,
   "id": "fd8576df-2052-4ad2-aaa5-b06b954b83d1",
   "metadata": {},
   "outputs": [
    {
     "data": {
      "text/plain": [
       "3"
      ]
     },
     "execution_count": 82,
     "metadata": {},
     "output_type": "execute_result"
    }
   ],
   "source": [
    "ar[0,-1]"
   ]
  },
  {
   "cell_type": "code",
   "execution_count": 84,
   "id": "dabcb86a-c754-46bf-9a69-1620215828d4",
   "metadata": {},
   "outputs": [
    {
     "data": {
      "text/plain": [
       "[0, 4, 55, 2]"
      ]
     },
     "execution_count": 84,
     "metadata": {},
     "output_type": "execute_result"
    }
   ],
   "source": [
    "np_ar.tolist() #list"
   ]
  },
  {
   "cell_type": "code",
   "execution_count": null,
   "id": "83697e4b-862c-4ac5-97d2-45b4ace088e6",
   "metadata": {},
   "outputs": [],
   "source": []
  }
 ],
 "metadata": {
  "kernelspec": {
   "display_name": "Python 3 (ipykernel)",
   "language": "python",
   "name": "python3"
  },
  "language_info": {
   "codemirror_mode": {
    "name": "ipython",
    "version": 3
   },
   "file_extension": ".py",
   "mimetype": "text/x-python",
   "name": "python",
   "nbconvert_exporter": "python",
   "pygments_lexer": "ipython3",
   "version": "3.10.6"
  }
 },
 "nbformat": 4,
 "nbformat_minor": 5
}
